{
 "cells": [
  {
   "cell_type": "code",
   "execution_count": 4,
   "id": "abc003eb",
   "metadata": {},
   "outputs": [],
   "source": [
    "#pip install nerus"
   ]
  },
  {
   "cell_type": "code",
   "execution_count": 9,
   "id": "3e4980f4",
   "metadata": {},
   "outputs": [
    {
     "name": "stdout",
     "output_type": "stream",
     "text": [
      "Requirement already satisfied: xgboost in c:\\users\\79653\\anaconda3\\lib\\site-packages (2.0.0)\n",
      "Requirement already satisfied: numpy in c:\\users\\79653\\anaconda3\\lib\\site-packages (from xgboost) (1.21.6)\n",
      "Requirement already satisfied: scipy in c:\\users\\79653\\anaconda3\\lib\\site-packages (from xgboost) (1.8.0)\n",
      "Note: you may need to restart the kernel to use updated packages.\n"
     ]
    }
   ],
   "source": [
    "#pip install xgboost"
   ]
  },
  {
   "cell_type": "code",
   "execution_count": 1,
   "id": "6871c24b",
   "metadata": {},
   "outputs": [
    {
     "name": "stderr",
     "output_type": "stream",
     "text": [
      "<frozen importlib._bootstrap>:219: RuntimeWarning: scipy._lib.messagestream.MessageStream size changed, may indicate binary incompatibility. Expected 56 from C header, got 64 from PyObject\n"
     ]
    }
   ],
   "source": [
    "from nerus import load_nerus\n",
    "import pandas as pd\n",
    "import numpy as np\n",
    "from sklearn.ensemble import RandomForestClassifier\n",
    "import xgboost as xgb\n",
    "from sklearn import tree\n",
    "from sklearn.tree import export_graphviz\n",
    "from IPython.display import Image\n",
    "from xgboost.sklearn import XGBClassifier\n",
    "from sklearn.model_selection import train_test_split\n",
    "from sklearn. preprocessing import OneHotEncoder\n",
    "import collections\n",
    "import re"
   ]
  },
  {
   "cell_type": "code",
   "execution_count": 2,
   "id": "d0c3f577",
   "metadata": {},
   "outputs": [],
   "source": [
    "docs = load_nerus('Downloads/nerus_lenta.conllu.gz')\n",
    "docs = iter(docs)"
   ]
  },
  {
   "cell_type": "code",
   "execution_count": 3,
   "id": "e2fe3684",
   "metadata": {},
   "outputs": [
    {
     "data": {
      "text/plain": [
       "<generator object group_docs at 0x000001CA43618580>"
      ]
     },
     "execution_count": 3,
     "metadata": {},
     "output_type": "execute_result"
    }
   ],
   "source": [
    "docs"
   ]
  },
  {
   "cell_type": "code",
   "execution_count": 4,
   "id": "a77aad86",
   "metadata": {},
   "outputs": [],
   "source": [
    "doc = next(docs)"
   ]
  },
  {
   "cell_type": "code",
   "execution_count": 5,
   "id": "bc50a635",
   "metadata": {},
   "outputs": [
    {
     "data": {
      "text/plain": [
       "'0'"
      ]
     },
     "execution_count": 5,
     "metadata": {},
     "output_type": "execute_result"
    }
   ],
   "source": [
    "doc.id"
   ]
  },
  {
   "cell_type": "code",
   "execution_count": 6,
   "id": "be378a65",
   "metadata": {},
   "outputs": [],
   "source": [
    "sent = doc.sents[0]"
   ]
  },
  {
   "cell_type": "code",
   "execution_count": 7,
   "id": "6dc1b96f",
   "metadata": {},
   "outputs": [],
   "source": [
    "df = pd.DataFrame()\n",
    "df['X'] = []\n",
    "df['Y'] = []\n",
    "df['target'] = []"
   ]
  },
  {
   "cell_type": "code",
   "execution_count": null,
   "id": "ca43458a",
   "metadata": {},
   "outputs": [],
   "source": []
  },
  {
   "cell_type": "code",
   "execution_count": 8,
   "id": "622fac6c",
   "metadata": {},
   "outputs": [
    {
     "data": {
      "text/plain": [
       "'Вице-премьер'"
      ]
     },
     "execution_count": 8,
     "metadata": {},
     "output_type": "execute_result"
    }
   ],
   "source": [
    "sent.morph.tokens[0].text"
   ]
  },
  {
   "cell_type": "code",
   "execution_count": 9,
   "id": "f427efcf",
   "metadata": {},
   "outputs": [
    {
     "data": {
      "text/plain": [
       "'NOUN'"
      ]
     },
     "execution_count": 9,
     "metadata": {},
     "output_type": "execute_result"
    }
   ],
   "source": [
    "sent.morph.tokens[0].pos"
   ]
  },
  {
   "cell_type": "code",
   "execution_count": 10,
   "id": "8a204f35",
   "metadata": {},
   "outputs": [
    {
     "data": {
      "text/plain": [
       "23"
      ]
     },
     "execution_count": 10,
     "metadata": {},
     "output_type": "execute_result"
    }
   ],
   "source": [
    "len(sent.morph.tokens)"
   ]
  },
  {
   "cell_type": "code",
   "execution_count": 11,
   "id": "29d9f303",
   "metadata": {},
   "outputs": [
    {
     "data": {
      "text/plain": [
       "6"
      ]
     },
     "execution_count": 11,
     "metadata": {},
     "output_type": "execute_result"
    }
   ],
   "source": [
    "len(doc.sents)"
   ]
  },
  {
   "cell_type": "code",
   "execution_count": null,
   "id": "1d12eab3",
   "metadata": {},
   "outputs": [],
   "source": [
    "\n",
    "doc = next(docs)\n",
    "for i in range(len(doc.sents)):\n",
    "    sent = doc.sents[i]\n",
    "    for j in range(len(sent.morph.tokens)):\n",
    "        row = {\"X\": sent.morph.tokens[j].text,\"Y\": sent.morph.tokens[j].pos, \"target\":sent.syntax.tokens[j].rel}\n",
    "        df = df.append(row,ignore_index = True)"
   ]
  },
  {
   "cell_type": "code",
   "execution_count": 73,
   "id": "293f45af",
   "metadata": {},
   "outputs": [],
   "source": [
    "df = df.reset_index()"
   ]
  },
  {
   "cell_type": "code",
   "execution_count": 53,
   "id": "b6892d85",
   "metadata": {},
   "outputs": [],
   "source": [
    "alphabet = [\"а\", \"б\", \"в\", \"г\", \"д\", \"е\", \"ё\", \"ж\", \"з\", \n",
    "\"и\", \"й\", \"к\", \"л\", \"м\", \"н\", \"о\", \"п\", \"р\",\n",
    "\"с\", \"т\", \"у\", \"ф\", \"х\", \"ц\", \"ч\", \"ш\", \"щ\",\n",
    "\"ъ\", \"ы\", \"ь\", \"э\", \"ю\", \"я\"]"
   ]
  },
  {
   "cell_type": "code",
   "execution_count": null,
   "id": "712bea83",
   "metadata": {},
   "outputs": [],
   "source": [
    "words = []\n",
    "features = pd.DataFrame(columns = alphabet)\n",
    "for i in range(df.shape[0]):\n",
    "    words.append(df.X[i])\n",
    "    features = features.append(dict(collections.Counter(df.X[i].lower())), ignore_index = True)"
   ]
  },
  {
   "cell_type": "code",
   "execution_count": 55,
   "id": "c283c6bc",
   "metadata": {},
   "outputs": [],
   "source": [
    "features = features.fillna(0)"
   ]
  },
  {
   "cell_type": "code",
   "execution_count": 59,
   "id": "fc954fa2",
   "metadata": {},
   "outputs": [],
   "source": [
    "features = features.drop(\"'\", axis = 1)"
   ]
  },
  {
   "cell_type": "code",
   "execution_count": 75,
   "id": "04c1c38e",
   "metadata": {},
   "outputs": [],
   "source": [
    "features = features.reset_index()"
   ]
  },
  {
   "cell_type": "code",
   "execution_count": 76,
   "id": "c924a778",
   "metadata": {},
   "outputs": [],
   "source": [
    "features_prep = features.merge(df,'inner', on= 'index')"
   ]
  },
  {
   "cell_type": "code",
   "execution_count": 77,
   "id": "46014ab2",
   "metadata": {},
   "outputs": [],
   "source": [
    "alphabet.append('X')"
   ]
  },
  {
   "cell_type": "code",
   "execution_count": 78,
   "id": "b41e6a40",
   "metadata": {},
   "outputs": [],
   "source": [
    "alphabet.append('target')"
   ]
  },
  {
   "cell_type": "code",
   "execution_count": 79,
   "id": "fdee29cb",
   "metadata": {},
   "outputs": [],
   "source": [
    "features_prep = features_prep[alphabet]"
   ]
  },
  {
   "cell_type": "code",
   "execution_count": 80,
   "id": "5ebac69d",
   "metadata": {},
   "outputs": [],
   "source": [
    "features_prep = features_prep[features_prep.drop([\"X\",\"target\"],axis = 1).apply(sum,axis = 1) > 0]"
   ]
  },
  {
   "cell_type": "code",
   "execution_count": 81,
   "id": "5204dc38",
   "metadata": {},
   "outputs": [],
   "source": [
    "features_prep.to_csv('nlp_dataset.csv',index = False)"
   ]
  },
  {
   "cell_type": "code",
   "execution_count": 82,
   "id": "d8683c45",
   "metadata": {},
   "outputs": [],
   "source": [
    "df_final = pd.read_csv('nlp_dataset.csv')"
   ]
  },
  {
   "cell_type": "code",
   "execution_count": 170,
   "id": "c42a1d42",
   "metadata": {},
   "outputs": [],
   "source": [
    "features_prep['first'] = features_prep['X'].map(lambda x: x.lower()[0])\n",
    "features_prep['last'] = features_prep['X'].map(lambda x: x.lower()[-1])\n",
    "features_prep['len'] = features_prep['X'].map(lambda x: len(x))"
   ]
  },
  {
   "cell_type": "code",
   "execution_count": null,
   "id": "37d05003",
   "metadata": {},
   "outputs": [],
   "source": []
  },
  {
   "cell_type": "code",
   "execution_count": null,
   "id": "f2a62206",
   "metadata": {},
   "outputs": [],
   "source": []
  },
  {
   "cell_type": "code",
   "execution_count": null,
   "id": "bcf6ec8f",
   "metadata": {},
   "outputs": [],
   "source": []
  },
  {
   "cell_type": "code",
   "execution_count": 136,
   "id": "6c4a04bb",
   "metadata": {},
   "outputs": [],
   "source": [
    "\n",
    "df_final = features_prep[~(features_prep['target'].isin(['punct','list','csubj:pass']))]"
   ]
  },
  {
   "cell_type": "code",
   "execution_count": null,
   "id": "64702f46",
   "metadata": {},
   "outputs": [],
   "source": []
  },
  {
   "cell_type": "code",
   "execution_count": 138,
   "id": "7850152d",
   "metadata": {},
   "outputs": [],
   "source": [
    "X_train, X_test, y_train, y_test = train_test_split(df_final.drop([\"target\",\"X\"],axis = 1), df_final.target, \n",
    "                                                    train_size=0.8, \n",
    "                                                    random_state=42,\n",
    "                                                    stratify = df_final.target)"
   ]
  },
  {
   "cell_type": "code",
   "execution_count": 139,
   "id": "8433e836",
   "metadata": {},
   "outputs": [],
   "source": [
    "from sklearn.preprocessing import LabelEncoder"
   ]
  },
  {
   "cell_type": "code",
   "execution_count": 140,
   "id": "cede8509",
   "metadata": {},
   "outputs": [],
   "source": [
    "la_target = LabelEncoder()\n",
    "first = LabelEncoder()\n",
    "last = LabelEncoder()\n",
    "y_train = la_target.fit_transform(y_train)\n",
    "X_train['first'] = first.fit_transform(X_train['first'])\n",
    "X_train['last'] = last.fit_transform(X_train['last'])"
   ]
  },
  {
   "cell_type": "code",
   "execution_count": 141,
   "id": "829175b8",
   "metadata": {},
   "outputs": [
    {
     "data": {
      "text/plain": [
       "array([ 8, 22,  8, ..., 29,  3, 24])"
      ]
     },
     "execution_count": 141,
     "metadata": {},
     "output_type": "execute_result"
    }
   ],
   "source": [
    "y_train"
   ]
  },
  {
   "cell_type": "markdown",
   "id": "f2638fa8",
   "metadata": {},
   "source": [
    "#### Модель"
   ]
  },
  {
   "cell_type": "code",
   "execution_count": 142,
   "id": "6b83c4cc",
   "metadata": {},
   "outputs": [],
   "source": [
    "import warnings\n",
    "warnings.filterwarnings('ignore')\n",
    "import numpy as np\n",
    "import pandas as pd\n",
    "from datetime import datetime\n",
    "from sklearn.model_selection import RandomizedSearchCV, GridSearchCV\n",
    "from sklearn.metrics import roc_auc_score\n",
    "from sklearn.model_selection import StratifiedKFold\n"
   ]
  },
  {
   "cell_type": "code",
   "execution_count": 143,
   "id": "bae50526",
   "metadata": {},
   "outputs": [],
   "source": [
    "def timer(start_time=None):\n",
    "    if not start_time:\n",
    "        start_time = datetime.now()\n",
    "        return start_time\n",
    "    elif start_time:\n",
    "        thour, temp_sec = divmod((datetime.now() - start_time).total_seconds(), 3600)\n",
    "        tmin, tsec = divmod(temp_sec, 60)\n",
    "        print('\\n Time taken: %i hours %i minutes and %s seconds.' % (thour, tmin, round(tsec, 2)))\n"
   ]
  },
  {
   "cell_type": "code",
   "execution_count": 160,
   "id": "513bc894",
   "metadata": {},
   "outputs": [],
   "source": [
    "parameters = {\n",
    "    'min_child_weight': [1, 5, 10],\n",
    "        'subsample': [0.6, 0.8, 1.0],\n",
    "        'max_depth': [3, 4, 5]\n",
    "}"
   ]
  },
  {
   "cell_type": "code",
   "execution_count": 161,
   "id": "22cdf687",
   "metadata": {},
   "outputs": [],
   "source": [
    "estimator = XGBClassifier(\n",
    "    objective= 'binary:logistic',\n",
    "    seed=42\n",
    ")\n"
   ]
  },
  {
   "cell_type": "code",
   "execution_count": 162,
   "id": "e09bbfb3",
   "metadata": {},
   "outputs": [],
   "source": [
    "grid_search = GridSearchCV(\n",
    "    estimator=estimator,\n",
    "    param_grid=parameters,\n",
    "    scoring = 'roc_auc',\n",
    ")"
   ]
  },
  {
   "cell_type": "code",
   "execution_count": null,
   "id": "416c8837",
   "metadata": {},
   "outputs": [],
   "source": [
    "grid_search.fit(X_train, y_train)"
   ]
  },
  {
   "cell_type": "code",
   "execution_count": null,
   "id": "74017ee4",
   "metadata": {},
   "outputs": [],
   "source": [
    "grid_search.best_estimator_"
   ]
  },
  {
   "cell_type": "code",
   "execution_count": 164,
   "id": "03c65b26",
   "metadata": {},
   "outputs": [
    {
     "data": {
      "text/html": [
       "<style>#sk-container-id-4 {color: black;background-color: white;}#sk-container-id-4 pre{padding: 0;}#sk-container-id-4 div.sk-toggleable {background-color: white;}#sk-container-id-4 label.sk-toggleable__label {cursor: pointer;display: block;width: 100%;margin-bottom: 0;padding: 0.3em;box-sizing: border-box;text-align: center;}#sk-container-id-4 label.sk-toggleable__label-arrow:before {content: \"▸\";float: left;margin-right: 0.25em;color: #696969;}#sk-container-id-4 label.sk-toggleable__label-arrow:hover:before {color: black;}#sk-container-id-4 div.sk-estimator:hover label.sk-toggleable__label-arrow:before {color: black;}#sk-container-id-4 div.sk-toggleable__content {max-height: 0;max-width: 0;overflow: hidden;text-align: left;background-color: #f0f8ff;}#sk-container-id-4 div.sk-toggleable__content pre {margin: 0.2em;color: black;border-radius: 0.25em;background-color: #f0f8ff;}#sk-container-id-4 input.sk-toggleable__control:checked~div.sk-toggleable__content {max-height: 200px;max-width: 100%;overflow: auto;}#sk-container-id-4 input.sk-toggleable__control:checked~label.sk-toggleable__label-arrow:before {content: \"▾\";}#sk-container-id-4 div.sk-estimator input.sk-toggleable__control:checked~label.sk-toggleable__label {background-color: #d4ebff;}#sk-container-id-4 div.sk-label input.sk-toggleable__control:checked~label.sk-toggleable__label {background-color: #d4ebff;}#sk-container-id-4 input.sk-hidden--visually {border: 0;clip: rect(1px 1px 1px 1px);clip: rect(1px, 1px, 1px, 1px);height: 1px;margin: -1px;overflow: hidden;padding: 0;position: absolute;width: 1px;}#sk-container-id-4 div.sk-estimator {font-family: monospace;background-color: #f0f8ff;border: 1px dotted black;border-radius: 0.25em;box-sizing: border-box;margin-bottom: 0.5em;}#sk-container-id-4 div.sk-estimator:hover {background-color: #d4ebff;}#sk-container-id-4 div.sk-parallel-item::after {content: \"\";width: 100%;border-bottom: 1px solid gray;flex-grow: 1;}#sk-container-id-4 div.sk-label:hover label.sk-toggleable__label {background-color: #d4ebff;}#sk-container-id-4 div.sk-serial::before {content: \"\";position: absolute;border-left: 1px solid gray;box-sizing: border-box;top: 0;bottom: 0;left: 50%;z-index: 0;}#sk-container-id-4 div.sk-serial {display: flex;flex-direction: column;align-items: center;background-color: white;padding-right: 0.2em;padding-left: 0.2em;position: relative;}#sk-container-id-4 div.sk-item {position: relative;z-index: 1;}#sk-container-id-4 div.sk-parallel {display: flex;align-items: stretch;justify-content: center;background-color: white;position: relative;}#sk-container-id-4 div.sk-item::before, #sk-container-id-4 div.sk-parallel-item::before {content: \"\";position: absolute;border-left: 1px solid gray;box-sizing: border-box;top: 0;bottom: 0;left: 50%;z-index: -1;}#sk-container-id-4 div.sk-parallel-item {display: flex;flex-direction: column;z-index: 1;position: relative;background-color: white;}#sk-container-id-4 div.sk-parallel-item:first-child::after {align-self: flex-end;width: 50%;}#sk-container-id-4 div.sk-parallel-item:last-child::after {align-self: flex-start;width: 50%;}#sk-container-id-4 div.sk-parallel-item:only-child::after {width: 0;}#sk-container-id-4 div.sk-dashed-wrapped {border: 1px dashed gray;margin: 0 0.4em 0.5em 0.4em;box-sizing: border-box;padding-bottom: 0.4em;background-color: white;}#sk-container-id-4 div.sk-label label {font-family: monospace;font-weight: bold;display: inline-block;line-height: 1.2em;}#sk-container-id-4 div.sk-label-container {text-align: center;}#sk-container-id-4 div.sk-container {/* jupyter's `normalize.less` sets `[hidden] { display: none; }` but bootstrap.min.css set `[hidden] { display: none !important; }` so we also need the `!important` here to be able to override the default hidden behavior on the sphinx rendered scikit-learn.org. See: https://github.com/scikit-learn/scikit-learn/issues/21755 */display: inline-block !important;position: relative;}#sk-container-id-4 div.sk-text-repr-fallback {display: none;}</style><div id=\"sk-container-id-4\" class=\"sk-top-container\"><div class=\"sk-text-repr-fallback\"><pre>XGBClassifier(base_score=None, booster=None, callbacks=None,\n",
       "              colsample_bylevel=None, colsample_bynode=None,\n",
       "              colsample_bytree=None, device=None, early_stopping_rounds=None,\n",
       "              enable_categorical=False, eval_metric=None, feature_types=None,\n",
       "              gamma=None, grow_policy=None, importance_type=None,\n",
       "              interaction_constraints=None, learning_rate=0.02, max_bin=None,\n",
       "              max_cat_threshold=None, max_cat_to_onehot=None,\n",
       "              max_delta_step=None, max_depth=None, max_leaves=None,\n",
       "              min_child_weight=None, missing=nan, monotone_constraints=None,\n",
       "              multi_strategy=None, n_estimators=1000, n_jobs=None, nthread=1,\n",
       "              num_parallel_tree=None, ...)</pre><b>In a Jupyter environment, please rerun this cell to show the HTML representation or trust the notebook. <br />On GitHub, the HTML representation is unable to render, please try loading this page with nbviewer.org.</b></div><div class=\"sk-container\" hidden><div class=\"sk-item\"><div class=\"sk-estimator sk-toggleable\"><input class=\"sk-toggleable__control sk-hidden--visually\" id=\"sk-estimator-id-4\" type=\"checkbox\" checked><label for=\"sk-estimator-id-4\" class=\"sk-toggleable__label sk-toggleable__label-arrow\">XGBClassifier</label><div class=\"sk-toggleable__content\"><pre>XGBClassifier(base_score=None, booster=None, callbacks=None,\n",
       "              colsample_bylevel=None, colsample_bynode=None,\n",
       "              colsample_bytree=None, device=None, early_stopping_rounds=None,\n",
       "              enable_categorical=False, eval_metric=None, feature_types=None,\n",
       "              gamma=None, grow_policy=None, importance_type=None,\n",
       "              interaction_constraints=None, learning_rate=0.02, max_bin=None,\n",
       "              max_cat_threshold=None, max_cat_to_onehot=None,\n",
       "              max_delta_step=None, max_depth=None, max_leaves=None,\n",
       "              min_child_weight=None, missing=nan, monotone_constraints=None,\n",
       "              multi_strategy=None, n_estimators=1000, n_jobs=None, nthread=1,\n",
       "              num_parallel_tree=None, ...)</pre></div></div></div></div></div>"
      ],
      "text/plain": [
       "XGBClassifier(base_score=None, booster=None, callbacks=None,\n",
       "              colsample_bylevel=None, colsample_bynode=None,\n",
       "              colsample_bytree=None, device=None, early_stopping_rounds=None,\n",
       "              enable_categorical=False, eval_metric=None, feature_types=None,\n",
       "              gamma=None, grow_policy=None, importance_type=None,\n",
       "              interaction_constraints=None, learning_rate=0.02, max_bin=None,\n",
       "              max_cat_threshold=None, max_cat_to_onehot=None,\n",
       "              max_delta_step=None, max_depth=None, max_leaves=None,\n",
       "              min_child_weight=None, missing=nan, monotone_constraints=None,\n",
       "              multi_strategy=None, n_estimators=1000, n_jobs=None, nthread=1,\n",
       "              num_parallel_tree=None, ...)"
      ]
     },
     "execution_count": 164,
     "metadata": {},
     "output_type": "execute_result"
    }
   ],
   "source": [
    "model_xgb = XGBClassifier(learning_rate=0.02, n_estimators=1000, objective='binary:logistic',\n",
    "                    silent=True, nthread=1)\n",
    "model_xgb.fit(X_train, y_train)"
   ]
  },
  {
   "cell_type": "code",
   "execution_count": 165,
   "id": "30bd97ff",
   "metadata": {},
   "outputs": [],
   "source": [
    "y_test = la_target.transform(y_test)\n",
    "X_test['first'] = first.transform(X_test['first'])\n",
    "X_test['last'] = last.transform(X_test['last'])"
   ]
  },
  {
   "cell_type": "code",
   "execution_count": 167,
   "id": "0a04de8a",
   "metadata": {},
   "outputs": [
    {
     "data": {
      "text/plain": [
       "0.6352040816326531"
      ]
     },
     "execution_count": 167,
     "metadata": {},
     "output_type": "execute_result"
    }
   ],
   "source": [
    "from sklearn.metrics import accuracy_score\n",
    "accuracy_score(y_test, model_xgb.predict(X_test))"
   ]
  },
  {
   "cell_type": "code",
   "execution_count": 131,
   "id": "c1c3bb15",
   "metadata": {},
   "outputs": [
    {
     "data": {
      "text/plain": [
       "array([24,  8,  4, ..., 22,  8, 23], dtype=int64)"
      ]
     },
     "execution_count": 131,
     "metadata": {},
     "output_type": "execute_result"
    }
   ],
   "source": [
    "model_xgb.predict(X_test)"
   ]
  },
  {
   "cell_type": "code",
   "execution_count": 657,
   "id": "e89ae8b2",
   "metadata": {},
   "outputs": [],
   "source": [
    "alphabet = [\"а\", \"б\", \"в\", \"г\", \"д\", \"е\", \"ё\", \"ж\", \"з\", \n",
    "\"и\", \"й\", \"к\", \"л\", \"м\", \"н\", \"о\", \"п\", \"р\",\n",
    "\"с\", \"т\", \"у\", \"ф\", \"х\", \"ц\", \"ч\", \"ш\", \"щ\",\n",
    "\"ъ\", \"ы\", \"ь\", \"э\", \"ю\", \"я\"]"
   ]
  },
  {
   "cell_type": "code",
   "execution_count": 658,
   "id": "537c504d",
   "metadata": {},
   "outputs": [],
   "source": [
    "random_word = pd.DataFrame(columns = alphabet)"
   ]
  },
  {
   "cell_type": "code",
   "execution_count": 662,
   "id": "aac6b193",
   "metadata": {},
   "outputs": [],
   "source": [
    "random_word = random_word.append(dict(collections.Counter(str('колодец').lower())), ignore_index = True)\n",
    "random_word = random_word[alphabet]"
   ]
  },
  {
   "cell_type": "code",
   "execution_count": 663,
   "id": "c85fd8bb",
   "metadata": {},
   "outputs": [],
   "source": [
    "random_word = random_word.fillna(0)"
   ]
  },
  {
   "cell_type": "code",
   "execution_count": 664,
   "id": "c78b2309",
   "metadata": {},
   "outputs": [
    {
     "data": {
      "text/plain": [
       "array(['nmod', 'nmod'], dtype=object)"
      ]
     },
     "execution_count": 664,
     "metadata": {},
     "output_type": "execute_result"
    }
   ],
   "source": [
    "la_target.inverse_transform(model_xgb.predict(random_word))"
   ]
  },
  {
   "cell_type": "code",
   "execution_count": 166,
   "id": "5a5730f0",
   "metadata": {},
   "outputs": [
    {
     "data": {
      "text/plain": [
       "0.6352040816326531"
      ]
     },
     "execution_count": 166,
     "metadata": {},
     "output_type": "execute_result"
    }
   ],
   "source": [
    "from sklearn.metrics import accuracy_score\n",
    "accuracy_score(y_test, model_xgb.predict(X_test))\n"
   ]
  },
  {
   "cell_type": "code",
   "execution_count": null,
   "id": "9dbe5b78",
   "metadata": {},
   "outputs": [],
   "source": [
    "\n",
    "problem = svm.problem(y, x) # создаем задачу\n",
    "param = svm.parameter('-c 1 -s 4') # параметры обучения\n",
    "model = svm.train(prob, param)"
   ]
  },
  {
   "cell_type": "markdown",
   "id": "838ddf7c",
   "metadata": {},
   "source": [
    "#### Как будет выглядеть"
   ]
  },
  {
   "cell_type": "code",
   "execution_count": 301,
   "id": "33d65d98",
   "metadata": {},
   "outputs": [],
   "source": [
    "\n",
    "\n",
    "def remove_punctuation_and_english_letters(string):\n",
    "    # Удаление знаков препинания\n",
    "    cleaned_string = re.sub(r'[^\\w\\s]', '', string)\n",
    "    \n",
    "    # Удаление английских букв\n",
    "    cleaned_string = re.sub(r'[a-zA-Z]', '', cleaned_string)\n",
    "    \n",
    "    return cleaned_string\n",
    "\n",
    "\n",
    "word_dict = {\n",
    "    'root': 'сказуемое',\n",
    "    'amod': 'определение',\n",
    "    'punct': 'знак препинания',\n",
    "    'conj': 'союз',\n",
    "    'nsubj': 'подлежащее',\n",
    "    'obj': 'дополнение',\n",
    "    'advmod': 'обстоятельство',\n",
    "    'xcomp': 'сказуемое',\n",
    "    'iobj': 'определение',\n",
    "    'case': 'предлог',\n",
    "    'obl': 'обстоятельство',\n",
    "    'cc' : 'союз',\n",
    "    'nmod': 'дополнение',\n",
    "    'appos': 'дополнение',\n",
    "    'det': 'определение',\n",
    "    'cop': 'сказуемое',\n",
    "    'csubj': 'сказуемое',\n",
    "    'discourse': 'предлог',\n",
    "    'mark': 'предлог',\n",
    "    'parataxis': 'сказуемое',\n",
    "    'flat:name': 'Имя, скорее всего дополнение или подлежащее',\n",
    "    'acl': 'определение'\n",
    "            }"
   ]
  },
  {
   "cell_type": "code",
   "execution_count": null,
   "id": "1e7cabac",
   "metadata": {},
   "outputs": [],
   "source": []
  },
  {
   "cell_type": "code",
   "execution_count": null,
   "id": "2eef8cb7",
   "metadata": {},
   "outputs": [],
   "source": []
  },
  {
   "cell_type": "markdown",
   "id": "165bbc43",
   "metadata": {},
   "source": [
    "### Пример"
   ]
  },
  {
   "cell_type": "code",
   "execution_count": 314,
   "id": "c3f6e740",
   "metadata": {},
   "outputs": [],
   "source": [
    "string = \"Ты смотрел и слушал, когда другой мужчина кричал бы от ярости. Ты сдерживался, где другой бьёт.\""
   ]
  },
  {
   "cell_type": "code",
   "execution_count": 315,
   "id": "66277321",
   "metadata": {},
   "outputs": [],
   "source": [
    "string = remove_punctuation_and_english_letters(string)\n",
    "\n",
    "# Разделение предложения на отдельные слова\n",
    "words = string.split()\n",
    "\n",
    "# Создание списка для индексов слов\n",
    "word_indices = list(range(1, len(words) + 1))\n",
    "\n",
    "# Создание пустого словаря для данных столбцов\n",
    "data = {\n",
    "    'first': [],\n",
    "    'last': [],\n",
    "    'len' :[]\n",
    "}\n",
    "for letter in 'йцукеёнгшщзхъфывапролджэячсмитьбю':\n",
    "    data[letter] = []\n",
    "# Заполнение данных столбцов\n",
    "for word in words:\n",
    "    data['first'].append(word.lower()[0])\n",
    "    data['last'].append(word.lower()[-1])\n",
    "    data['len'].append(len(word))\n",
    "    for letter in 'йцукеёнгшщзхъфывапролджэячсмитьбю':\n",
    "        data[letter].append(word.lower().count(letter))\n",
    "\n",
    "# Создание датафрейма из словаря данных\n",
    "df = pd.DataFrame(data, index=word_indices)\n",
    "df\n",
    "# Вывод датафрейма\n",
    "\n",
    "df['first'] = first.transform(df['first'])\n",
    "df['last']= last.transform(df['last'])\n",
    "\n",
    "temp = la_target.inverse_transform(model_xgb.predict(df[X_train.columns.to_list()]))"
   ]
  },
  {
   "cell_type": "code",
   "execution_count": 316,
   "id": "4294373a",
   "metadata": {},
   "outputs": [
    {
     "name": "stdout",
     "output_type": "stream",
     "text": [
      "Ты  :  подлежащее \n",
      "\n",
      "смотрел  :  обстоятельство \n",
      "\n",
      "и  :  союз \n",
      "\n",
      "слушал  :  сказуемое \n",
      "\n",
      "когда  :  предлог \n",
      "\n",
      "другой  :  определение \n",
      "\n",
      "мужчина  :  подлежащее \n",
      "\n",
      "кричал  :  подлежащее \n",
      "\n",
      "бы  :  сказуемое \n",
      "\n",
      "от  :  предлог \n",
      "\n",
      "ярости  :  дополнение \n",
      "\n",
      "Ты  :  подлежащее \n",
      "\n",
      "сдерживался  :  дополнение \n",
      "\n",
      "где  :  обстоятельство \n",
      "\n",
      "другой  :  определение \n",
      "\n",
      "бьёт  :  дополнение \n",
      "\n"
     ]
    }
   ],
   "source": [
    "for i in range(len(temp)):\n",
    "    print(words[i],\" : \",word_dict[temp[i]],'\\n')"
   ]
  },
  {
   "cell_type": "code",
   "execution_count": 310,
   "id": "54a16fd7",
   "metadata": {},
   "outputs": [],
   "source": [
    "#pip install natasha\n",
    "# from natasha import (\n",
    "#     Segmenter,\n",
    "#     NewsSyntaxParser,\n",
    "#     NewsEmbedding,\n",
    "#     Doc\n",
    "# )\n",
    "\n",
    "# def syntax_func(text:str):\n",
    "#     #Обработка языка\n",
    "#     emb = NewsEmbedding()\n",
    "#     segmenter = Segmenter()\n",
    "#     syntax_parser = NewsSyntaxParser(emb)\n",
    "#     doc = Doc(text)\n",
    "#     doc.segment(segmenter)\n",
    "#     doc.parse_syntax(syntax_parser)\n",
    "#     word_list = [list(i) for i in doc.tokens]\n",
    "#     word_output = []\n",
    "#     for i in word_list:\n",
    "#         try:\n",
    "#             word_output += [str(i[2]) + '-' + str(word_dict[i[5]])]\n",
    "#         except:\n",
    "#             word_output += [str(i[2]) + '-' + str(i[5])]\n",
    "\n",
    "#     return word_output\n",
    "\n",
    "# syntax_func('фпьывм дыловтаж')"
   ]
  },
  {
   "cell_type": "code",
   "execution_count": null,
   "id": "26f39367",
   "metadata": {},
   "outputs": [],
   "source": []
  },
  {
   "cell_type": "code",
   "execution_count": null,
   "id": "2fd62544",
   "metadata": {},
   "outputs": [],
   "source": []
  },
  {
   "cell_type": "code",
   "execution_count": null,
   "id": "f1c9aed7",
   "metadata": {},
   "outputs": [],
   "source": []
  },
  {
   "cell_type": "code",
   "execution_count": null,
   "id": "473e14ba",
   "metadata": {},
   "outputs": [],
   "source": []
  },
  {
   "cell_type": "code",
   "execution_count": null,
   "id": "8e47a50c",
   "metadata": {},
   "outputs": [],
   "source": []
  }
 ],
 "metadata": {
  "kernelspec": {
   "display_name": "Python 3 (ipykernel)",
   "language": "python",
   "name": "python3"
  },
  "language_info": {
   "codemirror_mode": {
    "name": "ipython",
    "version": 3
   },
   "file_extension": ".py",
   "mimetype": "text/x-python",
   "name": "python",
   "nbconvert_exporter": "python",
   "pygments_lexer": "ipython3",
   "version": "3.8.11"
  }
 },
 "nbformat": 4,
 "nbformat_minor": 5
}
